{
 "cells": [
  {
   "cell_type": "code",
   "execution_count": 1,
   "id": "a5bb7db1",
   "metadata": {},
   "outputs": [],
   "source": [
    "from typing import List\n",
    "from random import random\n",
    "import csv\n",
    "from pathlib import Path\n",
    "\n",
    "def get_size_of_net(structure: List[int]) -> int:\n",
    "    total_size = 0\n",
    "    for i in range(len(structure)-1):\n",
    "        total_size += (structure[i] + 1)*structure[i+1]\n",
    "    return total_size\n",
    "\n",
    "def get_random_weights(num_weights: int) -> List[float]:\n",
    "    out = []\n",
    "    for _ in range(num_weights):\n",
    "        out.append(random())\n",
    "    return out\n",
    "\n",
    "def write_to_csv(csv_dir: Path, weights: List[float], structure: List[int], bounds: List[List[float]]):\n",
    "    with open(csv_dir, 'w', newline='') as csvfile:\n",
    "        writer = csv.writer(csvfile)\n",
    "        writer.writerow(weights)\n",
    "        writer.writerow(structure)\n",
    "        bounds_flat = []\n",
    "        for bounds_pair in bounds:\n",
    "            bounds_flat+=bounds_pair\n",
    "        writer.writerow(bounds_flat)\n"
   ]
  },
  {
   "cell_type": "code",
   "execution_count": 2,
   "id": "15039b62",
   "metadata": {},
   "outputs": [],
   "source": [
    "structure = [8,10,5,2]\n",
    "weights = get_random_weights(get_size_of_net(structure))\n",
    "write_to_csv(Path('neural_network_config.csv'), weights, structure, bounds=[[0, 1], [-180, 180]])"
   ]
  },
  {
   "cell_type": "code",
   "execution_count": null,
   "id": "26a4c945",
   "metadata": {},
   "outputs": [],
   "source": []
  }
 ],
 "metadata": {
  "kernelspec": {
   "display_name": "moos-learn",
   "language": "python",
   "name": "python3"
  },
  "language_info": {
   "codemirror_mode": {
    "name": "ipython",
    "version": 3
   },
   "file_extension": ".py",
   "mimetype": "text/x-python",
   "name": "python",
   "nbconvert_exporter": "python",
   "pygments_lexer": "ipython3",
   "version": "3.13.5"
  }
 },
 "nbformat": 4,
 "nbformat_minor": 5
}
